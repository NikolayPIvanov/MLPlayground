{
 "cells": [
  {
   "cell_type": "markdown",
   "metadata": {},
   "source": [
    "# This notebook analyzes income data and makes binary classification decision if the person's income is more than 50k annually"
   ]
  },
  {
   "cell_type": "code",
   "execution_count": null,
   "metadata": {
    "dotnet_interactive": {
     "language": "csharp"
    }
   },
   "outputs": [
    {
     "data": {
      "text/html": [
       "<div><div></div><div></div><div><strong>Installed Packages</strong><ul><li><span>Microsoft.ML, 1.7.0</span></li></ul></div></div>"
      ]
     },
     "metadata": {},
     "output_type": "display_data"
    }
   ],
   "source": [
    "#r \"nuget:Microsoft.ML,1.7.0\"\n",
    "\n",
    "using System.IO;\n",
    "using Microsoft.ML.Data;\n",
    "using Microsoft.ML;\n",
    "using static Microsoft.ML.DataOperationsCatalog;"
   ]
  },
  {
   "cell_type": "code",
   "execution_count": null,
   "metadata": {
    "dotnet_interactive": {
     "language": "csharp"
    }
   },
   "outputs": [],
   "source": [
    "string dir = Directory.GetCurrentDirectory();\n",
    "string dataDir = $\"{dir}\\\\data\";\n",
    "string testDatasetFilePath = $\"{dataDir}\\\\test.csv\";\n",
    "string trainDatasetFilePath = $\"{dataDir}\\\\train.csv\";"
   ]
  },
  {
   "cell_type": "code",
   "execution_count": null,
   "metadata": {
    "dotnet_interactive": {
     "language": "csharp"
    }
   },
   "outputs": [],
   "source": [
    "MLContext mlContext = new MLContext(seed: 0);"
   ]
  },
  {
   "cell_type": "code",
   "execution_count": null,
   "metadata": {
    "dotnet_interactive": {
     "language": "csharp"
    }
   },
   "outputs": [],
   "source": [
    "public class IncomeData\n",
    "{\n",
    "    [LoadColumn(0)]\n",
    "    public float Age { get; set; }\n",
    "\n",
    "    [LoadColumn(1)]\n",
    "    public string Workclass { get; set; }\n",
    "\n",
    "    [LoadColumn(3)]\n",
    "    public string Education { get; set;}\n",
    "\n",
    "    [LoadColumn(14), ColumnName(\"Label\")]\n",
    "    public bool Sentiment { get; set; }\n",
    "}\n",
    "\n",
    "public class IncomeDataPrediction : IncomeData\n",
    "{\n",
    "    [ColumnName(\"PredictedLabel\")]\n",
    "    public bool Prediction { get; set; }\n",
    "\n",
    "    public float Probability { get; set; }\n",
    "    \n",
    "    public float Score { get; set; }\n",
    "}"
   ]
  },
  {
   "cell_type": "code",
   "execution_count": null,
   "metadata": {
    "dotnet_interactive": {
     "language": "csharp"
    }
   },
   "outputs": [],
   "source": [
    "IDataView dataView = mlContext.Data.LoadFromTextFile<IncomeData>(\n",
    "    trainDatasetFilePath, separatorChar: ',', hasHeader: true);"
   ]
  },
  {
   "cell_type": "code",
   "execution_count": null,
   "metadata": {
    "dotnet_interactive": {
     "language": "csharp"
    }
   },
   "outputs": [],
   "source": [
    "TrainTestData splitDataView = mlContext.Data.TrainTestSplit(dataView, testFraction: 0.2);"
   ]
  },
  {
   "cell_type": "code",
   "execution_count": null,
   "metadata": {
    "dotnet_interactive": {
     "language": "csharp"
    }
   },
   "outputs": [
    {
     "data": {
      "text/html": [
       "<table><thead><tr><th><i>index</i></th><th>Values</th></tr></thead><tbody><tr><td>0</td><td><div class=\"dni-plaintext\">[ Age: 67, Workclass: Private, Education: Doctorate, Label: True ]</div></td></tr><tr><td>1</td><td><div class=\"dni-plaintext\">[ Age: 17, Workclass: Private, Education: 12th, Label: False ]</div></td></tr><tr><td>2</td><td><div class=\"dni-plaintext\">[ Age: 31, Workclass: Private, Education: Bachelors, Label: True ]</div></td></tr><tr><td>3</td><td><div class=\"dni-plaintext\">[ Age: 58, Workclass: State-gov, Education: 7th-8th, Label: False ]</div></td></tr><tr><td>4</td><td><div class=\"dni-plaintext\">[ Age: 25, Workclass: State-gov, Education: Some-college, Label: False ]</div></td></tr></tbody></table>"
      ]
     },
     "metadata": {},
     "output_type": "display_data"
    }
   ],
   "source": [
    "splitDataView.TrainSet.Preview(5).RowView"
   ]
  },
  {
   "cell_type": "code",
   "execution_count": null,
   "metadata": {
    "dotnet_interactive": {
     "language": "csharp"
    }
   },
   "outputs": [],
   "source": [
    "var estimator = mlContext.Transforms.Categorical.OneHotEncoding(outputColumnName: \"WorkclassEncoded\", inputColumnName: nameof(IncomeData.Workclass))\n",
    "    .Append(mlContext.Transforms.Categorical.OneHotEncoding(outputColumnName: \"EducationEncoded\", inputColumnName: nameof(IncomeData.Education)))\n",
    "    .Append(\n",
    "        mlContext.Transforms.Concatenate(\"Features\", \n",
    "                                                    nameof(IncomeData.Age),\n",
    "                                                    \"WorkclassEncoded\",\n",
    "                                                    \"EducationEncoded\"))\n",
    "    .Append(\n",
    "        mlContext.BinaryClassification.Trainers.SdcaLogisticRegression(labelColumnName: \"Label\", featureColumnName: \"Features\"));"
   ]
  },
  {
   "cell_type": "code",
   "execution_count": null,
   "metadata": {
    "dotnet_interactive": {
     "language": "csharp"
    }
   },
   "outputs": [],
   "source": [
    "var model = estimator.Fit(splitDataView.TrainSet);"
   ]
  },
  {
   "cell_type": "code",
   "execution_count": null,
   "metadata": {
    "dotnet_interactive": {
     "language": "csharp"
    }
   },
   "outputs": [
    {
     "data": {
      "text/html": [
       "<table><thead><tr><th><i>index</i></th><th>Values</th></tr></thead><tbody><tr><td>0</td><td><div class=\"dni-plaintext\">[ Age: 28, Workclass: Private, Education: HS-grad, Label: False ]</div></td></tr><tr><td>1</td><td><div class=\"dni-plaintext\">[ Age: 76, Workclass: Private, Education: 7th-8th, Label: False ]</div></td></tr><tr><td>2</td><td><div class=\"dni-plaintext\">[ Age: 54, Workclass: Federal-gov, Education: HS-grad, Label: True ]</div></td></tr><tr><td>3</td><td><div class=\"dni-plaintext\">[ Age: 59, Workclass: Private, Education: Bachelors, Label: True ]</div></td></tr><tr><td>4</td><td><div class=\"dni-plaintext\">[ Age: 49, Workclass: Private, Education: Some-college, Label: True ]</div></td></tr></tbody></table>"
      ]
     },
     "metadata": {},
     "output_type": "display_data"
    }
   ],
   "source": [
    "splitDataView.TestSet.Preview(5).RowView"
   ]
  },
  {
   "cell_type": "code",
   "execution_count": null,
   "metadata": {
    "dotnet_interactive": {
     "language": "csharp"
    }
   },
   "outputs": [
    {
     "data": {
      "text/html": [
       "<table><thead><tr><th><i>index</i></th><th>Values</th></tr></thead><tbody><tr><td>0</td><td><div class=\"dni-plaintext\">[ Age: 28, Workclass: Private, Education: HS-grad, Label: False, WorkclassEncoded: 1, WorkclassEncoded: { Sparse vector of size 8, 1 explicit values: IsDense: False, Length: 8 }, EducationEncoded: 6, EducationEncoded: { Sparse vector of size 16, 1 explicit values: IsDense: False, Length: 16 }, Features: { Sparse vector of size 25, 3 explicit values: IsDense: False, Length: 25 }, PredictedLabel: False, Score: -3.203324, Probability: 0.039040823 ]</div></td></tr><tr><td>1</td><td><div class=\"dni-plaintext\">[ Age: 76, Workclass: Private, Education: 7th-8th, Label: False, WorkclassEncoded: 1, WorkclassEncoded: { Sparse vector of size 8, 1 explicit values: IsDense: False, Length: 8 }, EducationEncoded: 4, EducationEncoded: { Sparse vector of size 16, 1 explicit values: IsDense: False, Length: 16 }, Features: { Sparse vector of size 25, 3 explicit values: IsDense: False, Length: 25 }, PredictedLabel: False, Score: -1.060967, Probability: 0.25712472 ]</div></td></tr><tr><td>2</td><td><div class=\"dni-plaintext\">[ Age: 54, Workclass: Federal-gov, Education: HS-grad, Label: True, WorkclassEncoded: 6, WorkclassEncoded: { Sparse vector of size 8, 1 explicit values: IsDense: False, Length: 8 }, EducationEncoded: 6, EducationEncoded: { Sparse vector of size 16, 1 explicit values: IsDense: False, Length: 16 }, Features: { Sparse vector of size 25, 3 explicit values: IsDense: False, Length: 25 }, PredictedLabel: False, Score: -1.3198283, Probability: 0.21084687 ]</div></td></tr><tr><td>3</td><td><div class=\"dni-plaintext\">[ Age: 59, Workclass: Private, Education: Bachelors, Label: True, WorkclassEncoded: 1, WorkclassEncoded: { Sparse vector of size 8, 1 explicit values: IsDense: False, Length: 8 }, EducationEncoded: 3, EducationEncoded: { Sparse vector of size 16, 1 explicit values: IsDense: False, Length: 16 }, Features: { Sparse vector of size 25, 3 explicit values: IsDense: False, Length: 25 }, PredictedLabel: True, Score: 0.32380056, Probability: 0.5802502 ]</div></td></tr><tr><td>4</td><td><div class=\"dni-plaintext\">[ Age: 49, Workclass: Private, Education: Some-college, Label: True, WorkclassEncoded: 1, WorkclassEncoded: { Sparse vector of size 8, 1 explicit values: IsDense: False, Length: 8 }, EducationEncoded: 5, EducationEncoded: { Sparse vector of size 16, 1 explicit values: IsDense: False, Length: 16 }, Features: { Sparse vector of size 25, 3 explicit values: IsDense: False, Length: 25 }, PredictedLabel: False, Score: -1.6060679, Probability: 0.16713525 ]</div></td></tr></tbody></table>"
      ]
     },
     "metadata": {},
     "output_type": "display_data"
    }
   ],
   "source": [
    "IDataView predictions = model.Transform(splitDataView.TestSet);\n",
    "predictions.Preview(5).RowView"
   ]
  },
  {
   "cell_type": "code",
   "execution_count": null,
   "metadata": {
    "dotnet_interactive": {
     "language": "csharp"
    }
   },
   "outputs": [],
   "source": [
    "CalibratedBinaryClassificationMetrics metrics = mlContext.BinaryClassification.Evaluate(predictions, \"Label\");"
   ]
  },
  {
   "cell_type": "code",
   "execution_count": null,
   "metadata": {
    "dotnet_interactive": {
     "language": "csharp"
    }
   },
   "outputs": [
    {
     "name": "stdout",
     "output_type": "stream",
     "text": [
      "\r\n",
      "Model quality metrics evaluation\r\n",
      "--------------------------------\r\n",
      "Accuracy: 77.21%\r\n",
      "Auc: 76.95%\r\n",
      "F1Score: 26.41%\r\n",
      "=============== End of model evaluation ===============\r\n"
     ]
    }
   ],
   "source": [
    "Console.WriteLine();\n",
    "Console.WriteLine(\"Model quality metrics evaluation\");\n",
    "Console.WriteLine(\"--------------------------------\");\n",
    "Console.WriteLine($\"Accuracy: {metrics.Accuracy:P2}\");\n",
    "Console.WriteLine($\"Auc: {metrics.AreaUnderRocCurve:P2}\");\n",
    "Console.WriteLine($\"F1Score: {metrics.F1Score:P2}\");\n",
    "Console.WriteLine(\"=============== End of model evaluation ===============\");"
   ]
  },
  {
   "cell_type": "code",
   "execution_count": null,
   "metadata": {
    "dotnet_interactive": {
     "language": "csharp"
    }
   },
   "outputs": [
    {
     "data": {
      "text/html": [
       "<table><thead><tr><th>Prediction</th><th>Probability</th><th>Score</th><th>Age</th><th>Workclass</th><th>Education</th><th>Sentiment</th></tr></thead><tbody><tr><td><div class=\"dni-plaintext\">False</div></td><td><div class=\"dni-plaintext\">0.1326429</div></td><td><div class=\"dni-plaintext\">-1.8777902</div></td><td><div class=\"dni-plaintext\">23</div></td><td><div class=\"dni-plaintext\">Private</div></td><td><div class=\"dni-plaintext\">Bachelors</div></td><td><div class=\"dni-plaintext\">False</div></td></tr></tbody></table>"
      ]
     },
     "metadata": {},
     "output_type": "display_data"
    }
   ],
   "source": [
    "var predictionEngine = mlContext.Model.CreatePredictionEngine<IncomeData, IncomeDataPrediction>(model);\n",
    "\n",
    "var sample = new IncomeData\n",
    "{\n",
    "    Age = 23.0f,\n",
    "    Education = \"Bachelors\",\n",
    "    Workclass = \"Private\",\n",
    "    Sentiment = false\n",
    "};\n",
    "\n",
    "var result = predictionEngine.Predict(sample);\n",
    "result"
   ]
  }
 ],
 "metadata": {
  "kernelspec": {
   "display_name": ".NET (C#)",
   "language": "C#",
   "name": ".net-csharp"
  },
  "language_info": {
   "name": "C#"
  }
 },
 "nbformat": 4,
 "nbformat_minor": 2
}
